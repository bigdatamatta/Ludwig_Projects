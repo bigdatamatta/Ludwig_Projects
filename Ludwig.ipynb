{
  "nbformat": 4,
  "nbformat_minor": 0,
  "metadata": {
    "colab": {
      "name": "Ludwig.ipynb",
      "version": "0.3.2",
      "provenance": [],
      "collapsed_sections": [],
      "include_colab_link": true
    },
    "kernelspec": {
      "name": "python3",
      "display_name": "Python 3"
    },
    "accelerator": "GPU"
  },
  "cells": [
    {
      "cell_type": "markdown",
      "metadata": {
        "id": "view-in-github",
        "colab_type": "text"
      },
      "source": [
        "<a href=\"https://colab.research.google.com/github/paulgureghian/Ludwig_Models/blob/master/Ludwig.ipynb\" target=\"_parent\"><img src=\"https://colab.research.google.com/assets/colab-badge.svg\" alt=\"Open In Colab\"/></a>"
      ]
    },
    {
      "metadata": {
        "id": "NS1JIZ7idQu4",
        "colab_type": "code",
        "outputId": "bbb9f347-7485-45f0-adfd-f8bc87c31cd0",
        "colab": {
          "base_uri": "https://localhost:8080/",
          "height": 125
        }
      },
      "cell_type": "code",
      "source": [
        "!pip install https://github.com/uber/ludwig/archive/master.zip -q\n",
        "!pip install -U scikit-image numpy -q\n",
        "!pip check"
      ],
      "execution_count": 0,
      "outputs": [
        {
          "output_type": "stream",
          "text": [
            "\u001b[K     | 17.8MB 2.0MB/s\n",
            "  Building wheel for ludwig (setup.py) ... \u001b[?25ldone\n",
            "\u001b[?25hpymc3 3.6 has requirement joblib<0.13.0, but you have joblib 0.13.2.\n",
            "jupyter-console 6.0.0 has requirement prompt-toolkit<2.1.0,>=2.0.0, but you have prompt-toolkit 1.0.15.\n",
            "featuretools 0.4.1 has requirement pandas>=0.23.0, but you have pandas 0.22.0.\n",
            "albumentations 0.1.12 has requirement imgaug<0.2.7,>=0.2.5, but you have imgaug 0.2.8.\n"
          ],
          "name": "stdout"
        }
      ]
    },
    {
      "metadata": {
        "id": "Ac36TW5jgNYP",
        "colab_type": "code",
        "outputId": "2980dfed-4946-4476-90d1-7fea8662e2af",
        "colab": {
          "base_uri": "https://localhost:8080/",
          "height": 55
        }
      },
      "cell_type": "code",
      "source": [
        "## Connect Google Drive.\n",
        "\n",
        "from google.colab import drive\n",
        "drive.mount('/content/drive')"
      ],
      "execution_count": 0,
      "outputs": [
        {
          "output_type": "stream",
          "text": [
            "Drive already mounted at /content/drive; to attempt to forcibly remount, call drive.mount(\"/content/drive\", force_remount=True).\n"
          ],
          "name": "stdout"
        }
      ]
    },
    {
      "metadata": {
        "id": "HtXuHmR7-UfF",
        "colab_type": "code",
        "colab": {}
      },
      "cell_type": "code",
      "source": [
        "## Set data to where the dataset is, and csv_file to where the labels csv file should be saved.\n",
        "\n",
        "data = '/content/drive/My Drive/Vohra Wound AI/Data/Wound Dataset'\n",
        "csv_file = '/content/drive/My Drive/Colab Notebooks/WoundAI/data/input/Wound Dataset/labels.csv'"
      ],
      "execution_count": 0,
      "outputs": []
    },
    {
      "metadata": {
        "id": "qopDdq1Xw5M3",
        "colab_type": "code",
        "colab": {}
      },
      "cell_type": "code",
      "source": [
        "## Create labels.csv.\n",
        "\n",
        "import os\n",
        "import csv\n",
        "import skimage\n",
        "\n",
        "def list_files(\n",
        "    startpath, \n",
        "    csvfile,\n",
        "    print_rows=False,\n",
        "    use_full_path=False,\n",
        "    filecheck=None,\n",
        "):\n",
        "    \n",
        "    labels = csv.writer(open(csvfile, \"w\", newline=''))\n",
        "    \n",
        "    column_headers = ['Filename', 'Label']\n",
        "    labels.writerow(column_headers)\n",
        "    \n",
        "    accepted_count = 0\n",
        "    rejected_count = 0\n",
        "    \n",
        "    for root, dirs, files in os.walk(startpath):\n",
        "        if os.path.basename(root)[0]=='.': continue # Skip hidden folders.\n",
        "        for f in files:\n",
        "            full_path = os.path.join(root, f)\n",
        "            \n",
        "            # Skip files that don't pass the filecheck.\n",
        "            if filecheck is not None and not filecheck(full_path):\n",
        "                rejected_count += 1\n",
        "                continue\n",
        "            \n",
        "            label = os.path.basename(root)\n",
        "            if use_full_path:\n",
        "                filename = full_path\n",
        "            else:\n",
        "                filename = os.path.join(os.path.basename(root),f)\n",
        "                \n",
        "            row = [filename, label] # \n",
        "            labels.writerow(row)\n",
        "            accepted_count += 1\n",
        "            \n",
        "            if print_rows: print(row)\n",
        "    \n",
        "    print('Included {} files and skipped {} files'.format(accepted_count, rejected_count))\n",
        "            \n",
        "def check_image(filename, extensions={'.jpg', '.png', '.gif'}, dims=None, num_channels=None, channel_index = 2):\n",
        "    \n",
        "    # Only allow files with the specified extensions.\n",
        "    if not os.path.splitext(filename)[1] in extensions: return False \n",
        "    \n",
        "    image = skimage.io.imread(filename)\n",
        "    \n",
        "    # Only list image files that have the allowable number of dimensions.\n",
        "    if dims is not None:\n",
        "        file_dims = len(image.shape)\n",
        "        if file_dims != dims: return False\n",
        "\n",
        "    # Only list image files that have the allowable number of channels.\n",
        "    if num_channels is not None:\n",
        "        file_num_channels = image.shape[channel_index]\n",
        "        if file_num_channels != num_channels: return False\n",
        "        \n",
        "    return True"
      ],
      "execution_count": 0,
      "outputs": []
    },
    {
      "metadata": {
        "id": "Le-M1jbsw-8w",
        "colab_type": "code",
        "outputId": "c5ed1b60-6ede-4dc1-fb6f-a507a49a8afa",
        "colab": {
          "base_uri": "https://localhost:8080/",
          "height": 35
        }
      },
      "cell_type": "code",
      "source": [
        "file_checker = lambda f: check_image(\n",
        "    f, \n",
        "    extensions={'.jpg', '.png', '.gif'}, \n",
        "    dims=3, \n",
        "    num_channels=3, \n",
        "    channel_index = 2,\n",
        ")\n",
        "\n",
        "list_files(data, csv_file, use_full_path=True,\n",
        "          filecheck = file_checker, \n",
        "          )"
      ],
      "execution_count": 0,
      "outputs": [
        {
          "output_type": "stream",
          "text": [
            "Included 2094 files and skipped 170 files\n"
          ],
          "name": "stdout"
        }
      ]
    },
    {
      "metadata": {
        "id": "i0spAVbxdWH-",
        "colab_type": "code",
        "colab": {}
      },
      "cell_type": "code",
      "source": [
        "from ludwig import LudwigModel"
      ],
      "execution_count": 0,
      "outputs": []
    },
    {
      "metadata": {
        "id": "nzQmdDd1dewn",
        "colab_type": "code",
        "colab": {}
      },
      "cell_type": "code",
      "source": [
        "## See https://uber.github.io/ludwig/user_guide/#model-definition for more information.\n",
        "\n",
        "model_definition = {\n",
        "    'input_features': [\n",
        "        {\n",
        "            'name': 'Filename', 'type': 'image', 'encoder': 'stacked_cnn',         \n",
        "            # Image options.\n",
        "            'in_memory': False,\n",
        "            'resize_method': 'interpolate',\n",
        "            'height': 224,\n",
        "            'width': 224,\n",
        "        },\n",
        "    ],\n",
        "    #combiner': {},\n",
        "    'output_features': [\n",
        "        {'name': 'Label', 'type': 'category'}\n",
        "    ],\n",
        "    'training': {\n",
        "        'batch_size': 32,\n",
        "        'epochs': 50,\n",
        "    },\n",
        "    'preprocessing': {\n",
        "        'force_split': False,\n",
        "        'split_probabilities': [0.7, 0.2, 0.1],\n",
        "        'random_seed': 2398,\n",
        "    },    \n",
        "}"
      ],
      "execution_count": 0,
      "outputs": []
    },
    {
      "metadata": {
        "id": "Gxuy-TQtgaOR",
        "colab_type": "code",
        "outputId": "4cea8754-0c92-43cc-af8a-9a74de5a7ee3",
        "colab": {
          "base_uri": "https://localhost:8080/",
          "height": 244
        }
      },
      "cell_type": "code",
      "source": [
        "# train a model\n",
        "model = LudwigModel(model_definition)\n",
        "train_stats = model.train(data_csv=csv_file)\n",
        "\n",
        "# or load a model\n",
        "#model = LudwigModel.load(model_path)\n",
        "\n",
        "# obtain predictions\n",
        "#predictions = model.predict(test_dataframe)\n",
        "\n",
        "#model.close()"
      ],
      "execution_count": 0,
      "outputs": [
        {
          "output_type": "error",
          "ename": "NameError",
          "evalue": "ignored",
          "traceback": [
            "\u001b[0;31m---------------------------------------------------------------------------\u001b[0m",
            "\u001b[0;31mNameError\u001b[0m                                 Traceback (most recent call last)",
            "\u001b[0;32m<ipython-input-3-107fd604432d>\u001b[0m in \u001b[0;36m<module>\u001b[0;34m()\u001b[0m\n\u001b[1;32m      1\u001b[0m \u001b[0mmodel\u001b[0m \u001b[0;34m=\u001b[0m \u001b[0mLudwigModel\u001b[0m\u001b[0;34m(\u001b[0m\u001b[0mmodel_definition\u001b[0m\u001b[0;34m)\u001b[0m\u001b[0;34m\u001b[0m\u001b[0;34m\u001b[0m\u001b[0m\n\u001b[0;32m----> 2\u001b[0;31m \u001b[0mtrain_stats\u001b[0m \u001b[0;34m=\u001b[0m \u001b[0mmodel\u001b[0m\u001b[0;34m.\u001b[0m\u001b[0mtrain\u001b[0m\u001b[0;34m(\u001b[0m\u001b[0mdata_csv\u001b[0m\u001b[0;34m=\u001b[0m\u001b[0mcsv_file\u001b[0m\u001b[0;34m)\u001b[0m\u001b[0;34m\u001b[0m\u001b[0;34m\u001b[0m\u001b[0m\n\u001b[0m\u001b[1;32m      3\u001b[0m \u001b[0;34m\u001b[0m\u001b[0m\n\u001b[1;32m      4\u001b[0m \u001b[0;31m# or load a model\u001b[0m\u001b[0;34m\u001b[0m\u001b[0;34m\u001b[0m\u001b[0;34m\u001b[0m\u001b[0m\n\u001b[1;32m      5\u001b[0m \u001b[0;31m#model = LudwigModel.load(model_path)\u001b[0m\u001b[0;34m\u001b[0m\u001b[0;34m\u001b[0m\u001b[0;34m\u001b[0m\u001b[0m\n",
            "\u001b[0;31mNameError\u001b[0m: name 'csv_file' is not defined"
          ]
        }
      ]
    },
    {
      "metadata": {
        "id": "UCbf2-wHyyrP",
        "colab_type": "code",
        "colab": {}
      },
      "cell_type": "code",
      "source": [
        ""
      ],
      "execution_count": 0,
      "outputs": []
    }
  ]
}