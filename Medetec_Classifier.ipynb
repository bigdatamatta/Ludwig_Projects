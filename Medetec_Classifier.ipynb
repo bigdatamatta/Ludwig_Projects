{
  "nbformat": 4,
  "nbformat_minor": 0,
  "metadata": {
    "colab": {
      "name": "Medetec_Classifier.ipynb",
      "version": "0.3.2",
      "provenance": [],
      "collapsed_sections": [],
      "include_colab_link": true
    },
    "kernelspec": {
      "name": "python3",
      "display_name": "Python 3"
    }
  },
  "cells": [
    {
      "cell_type": "markdown",
      "metadata": {
        "id": "view-in-github",
        "colab_type": "text"
      },
      "source": [
        "<a href=\"https://colab.research.google.com/github/paulgureghian/Ludwig_Models/blob/master/Medetec_Classifier.ipynb\" target=\"_parent\"><img src=\"https://colab.research.google.com/assets/colab-badge.svg\" alt=\"Open In Colab\"/></a>"
      ]
    },
    {
      "metadata": {
        "id": "ssFPEthzUND7",
        "colab_type": "code",
        "outputId": "a1675016-3e07-4ad9-d4ec-1ca1cb7deaeb",
        "colab": {
          "base_uri": "https://localhost:8080/",
          "height": 204
        }
      },
      "cell_type": "code",
      "source": [
        "# Install the PyDrive wrapper & import libraries.\n",
        "# This only needs to be done once per notebook.\n",
        "!pip install -U -q PyDrive\n",
        "from pydrive.auth import GoogleAuth\n",
        "from pydrive.drive import GoogleDrive\n",
        "from google.colab import auth\n",
        "from oauth2client.client import GoogleCredentials\n",
        "\n",
        "# Authenticate and create the PyDrive client.\n",
        "# This only needs to be done once per notebook.\n",
        "auth.authenticate_user()\n",
        "gauth = GoogleAuth()\n",
        "gauth.credentials = GoogleCredentials.get_application_default()\n",
        "drive = GoogleDrive(gauth)\n",
        "\n",
        "# List .txt files in the root.\n",
        "#\n",
        "# Search query reference:\n",
        "# https://developers.google.com/drive/v2/web/search-parameters\n",
        "listed = drive.ListFile({'q': \"'15hEQjiKwk3oXRd-6hgv6G7qWLmT7z1HG' in parents\"}).GetList()\n",
        "for file in listed:\n",
        "  print('title {}, id {}'.format(file['title'], file['id']))"
      ],
      "execution_count": 0,
      "outputs": [
        {
          "output_type": "stream",
          "text": [
            "title requirements.txt, id 1kBh1OAS1H_XJYSqkfPwZ91j9HHvotzc3\n",
            "title Dockerfile, id 1pDDrPUasSSM2XrAl6UfOfoupQkSFA_r6\n",
            "title LICENSE, id 1IRTQWTLpq6iITv-RjBUST8I8_QuFnKSZ\n",
            "title README.md, id 167UDmGw6oFPdBaclH-gPa33oqMKSAVE8\n",
            "title setup.py, id 1dBrEdSt5miSwdOsy1mAHx7NPNFSGf9Tw\n",
            "title .gitignore, id 1J5LPoUR1Hb321TnYEQ1sOsZ19cnN8CJS\n",
            "title tests, id 1RZSo1Y7iHOkbjxB2lPRu-qVR8j1Gfdno\n",
            "title mkdocs, id 1x7757FAXDdjkFpvD9PHFAhf83xxe13Jg\n",
            "title .git, id 1U-M2hI3gqLdpyV6sayIIqlOrKaIqr1qt\n",
            "title ludwig, id 13OUsd8j59N1QUtUeP9MVjoFpsq5OEpeG\n",
            "title docs, id 1mnDOUZfykSswQc8TdtG1BHf6Fsq6GRhT\n"
          ],
          "name": "stdout"
        }
      ]
    },
    {
      "metadata": {
        "id": "WueX5eMrVK9E",
        "colab_type": "code",
        "colab": {}
      },
      "cell_type": "code",
      "source": [
        "requirements = drive.CreateFile({'id' : '1kBh1OAS1H_XJYSqkfPwZ91j9HHvotzc3'}) \n",
        "requirements.GetContentFile('requirements.txt') \n",
        "\n",
        "print('File successfully imported.') "
      ],
      "execution_count": 0,
      "outputs": []
    },
    {
      "metadata": {
        "id": "Yl3R2dU0WT61",
        "colab_type": "code",
        "colab": {}
      },
      "cell_type": "code",
      "source": [
        "!pip install -r requirements.txt"
      ],
      "execution_count": 0,
      "outputs": []
    },
    {
      "metadata": {
        "id": "nY9pIzXTYnr2",
        "colab_type": "code",
        "colab": {}
      },
      "cell_type": "code",
      "source": [
        "!python -m spacy download en"
      ],
      "execution_count": 0,
      "outputs": []
    },
    {
      "metadata": {
        "id": "PCWpN0AmY6EM",
        "colab_type": "code",
        "colab": {}
      },
      "cell_type": "code",
      "source": [
        "setup = drive.CreateFile({'id' : '1dBrEdSt5miSwdOsy1mAHx7NPNFSGf9Tw'})\n",
        "setup.GetContentFile('setup.py') "
      ],
      "execution_count": 0,
      "outputs": []
    },
    {
      "metadata": {
        "id": "JxkqbpyFZ7Lg",
        "colab_type": "code",
        "colab": {}
      },
      "cell_type": "code",
      "source": [
        "!python setup.py install"
      ],
      "execution_count": 0,
      "outputs": []
    }
  ]
}